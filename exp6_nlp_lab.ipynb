{
  "nbformat": 4,
  "nbformat_minor": 0,
  "metadata": {
    "colab": {
      "provenance": [],
      "include_colab_link": true
    },
    "kernelspec": {
      "name": "python3",
      "display_name": "Python 3"
    },
    "language_info": {
      "name": "python"
    }
  },
  "cells": [
    {
      "cell_type": "markdown",
      "metadata": {
        "id": "view-in-github",
        "colab_type": "text"
      },
      "source": [
        "<a href=\"https://colab.research.google.com/github/dhruv21csu155/nlp/blob/main/exp6_nlp_lab.ipynb\" target=\"_parent\"><img src=\"https://colab.research.google.com/assets/colab-badge.svg\" alt=\"Open In Colab\"/></a>"
      ]
    },
    {
      "cell_type": "code",
      "source": [
        "nltk.download(\"all\")"
      ],
      "metadata": {
        "colab": {
          "base_uri": "https://localhost:8080/"
        },
        "id": "w0tMAGgbzvg-",
        "outputId": "98cd4e89-173a-4923-9e80-bab1de3257c3"
      },
      "execution_count": 45,
      "outputs": [
        {
          "output_type": "stream",
          "name": "stderr",
          "text": [
            "[nltk_data] Downloading collection 'all'\n",
            "[nltk_data]    | \n",
            "[nltk_data]    | Downloading package abc to /root/nltk_data...\n",
            "[nltk_data]    |   Package abc is already up-to-date!\n",
            "[nltk_data]    | Downloading package alpino to /root/nltk_data...\n",
            "[nltk_data]    |   Package alpino is already up-to-date!\n",
            "[nltk_data]    | Downloading package averaged_perceptron_tagger to\n",
            "[nltk_data]    |     /root/nltk_data...\n",
            "[nltk_data]    |   Package averaged_perceptron_tagger is already up-\n",
            "[nltk_data]    |       to-date!\n",
            "[nltk_data]    | Downloading package averaged_perceptron_tagger_eng to\n",
            "[nltk_data]    |     /root/nltk_data...\n",
            "[nltk_data]    |   Package averaged_perceptron_tagger_eng is already\n",
            "[nltk_data]    |       up-to-date!\n",
            "[nltk_data]    | Downloading package averaged_perceptron_tagger_ru to\n",
            "[nltk_data]    |     /root/nltk_data...\n",
            "[nltk_data]    |   Package averaged_perceptron_tagger_ru is already\n",
            "[nltk_data]    |       up-to-date!\n",
            "[nltk_data]    | Downloading package averaged_perceptron_tagger_rus to\n",
            "[nltk_data]    |     /root/nltk_data...\n",
            "[nltk_data]    |   Package averaged_perceptron_tagger_rus is already\n",
            "[nltk_data]    |       up-to-date!\n",
            "[nltk_data]    | Downloading package basque_grammars to\n",
            "[nltk_data]    |     /root/nltk_data...\n",
            "[nltk_data]    |   Package basque_grammars is already up-to-date!\n",
            "[nltk_data]    | Downloading package bcp47 to /root/nltk_data...\n",
            "[nltk_data]    |   Package bcp47 is already up-to-date!\n",
            "[nltk_data]    | Downloading package biocreative_ppi to\n",
            "[nltk_data]    |     /root/nltk_data...\n",
            "[nltk_data]    |   Package biocreative_ppi is already up-to-date!\n",
            "[nltk_data]    | Downloading package bllip_wsj_no_aux to\n",
            "[nltk_data]    |     /root/nltk_data...\n",
            "[nltk_data]    |   Package bllip_wsj_no_aux is already up-to-date!\n",
            "[nltk_data]    | Downloading package book_grammars to\n",
            "[nltk_data]    |     /root/nltk_data...\n",
            "[nltk_data]    |   Package book_grammars is already up-to-date!\n",
            "[nltk_data]    | Downloading package brown to /root/nltk_data...\n",
            "[nltk_data]    |   Package brown is already up-to-date!\n",
            "[nltk_data]    | Downloading package brown_tei to /root/nltk_data...\n",
            "[nltk_data]    |   Package brown_tei is already up-to-date!\n",
            "[nltk_data]    | Downloading package cess_cat to /root/nltk_data...\n",
            "[nltk_data]    |   Package cess_cat is already up-to-date!\n",
            "[nltk_data]    | Downloading package cess_esp to /root/nltk_data...\n",
            "[nltk_data]    |   Package cess_esp is already up-to-date!\n",
            "[nltk_data]    | Downloading package chat80 to /root/nltk_data...\n",
            "[nltk_data]    |   Package chat80 is already up-to-date!\n",
            "[nltk_data]    | Downloading package city_database to\n",
            "[nltk_data]    |     /root/nltk_data...\n",
            "[nltk_data]    |   Package city_database is already up-to-date!\n",
            "[nltk_data]    | Downloading package cmudict to /root/nltk_data...\n",
            "[nltk_data]    |   Package cmudict is already up-to-date!\n",
            "[nltk_data]    | Downloading package comparative_sentences to\n",
            "[nltk_data]    |     /root/nltk_data...\n",
            "[nltk_data]    |   Package comparative_sentences is already up-to-\n",
            "[nltk_data]    |       date!\n",
            "[nltk_data]    | Downloading package comtrans to /root/nltk_data...\n",
            "[nltk_data]    |   Package comtrans is already up-to-date!\n",
            "[nltk_data]    | Downloading package conll2000 to /root/nltk_data...\n",
            "[nltk_data]    |   Package conll2000 is already up-to-date!\n",
            "[nltk_data]    | Downloading package conll2002 to /root/nltk_data...\n",
            "[nltk_data]    |   Package conll2002 is already up-to-date!\n",
            "[nltk_data]    | Downloading package conll2007 to /root/nltk_data...\n",
            "[nltk_data]    |   Package conll2007 is already up-to-date!\n",
            "[nltk_data]    | Downloading package crubadan to /root/nltk_data...\n",
            "[nltk_data]    |   Package crubadan is already up-to-date!\n",
            "[nltk_data]    | Downloading package dependency_treebank to\n",
            "[nltk_data]    |     /root/nltk_data...\n",
            "[nltk_data]    |   Package dependency_treebank is already up-to-date!\n",
            "[nltk_data]    | Downloading package dolch to /root/nltk_data...\n",
            "[nltk_data]    |   Package dolch is already up-to-date!\n",
            "[nltk_data]    | Downloading package europarl_raw to\n",
            "[nltk_data]    |     /root/nltk_data...\n",
            "[nltk_data]    |   Package europarl_raw is already up-to-date!\n",
            "[nltk_data]    | Downloading package extended_omw to\n",
            "[nltk_data]    |     /root/nltk_data...\n",
            "[nltk_data]    |   Package extended_omw is already up-to-date!\n",
            "[nltk_data]    | Downloading package floresta to /root/nltk_data...\n",
            "[nltk_data]    |   Package floresta is already up-to-date!\n",
            "[nltk_data]    | Downloading package framenet_v15 to\n",
            "[nltk_data]    |     /root/nltk_data...\n",
            "[nltk_data]    |   Package framenet_v15 is already up-to-date!\n",
            "[nltk_data]    | Downloading package framenet_v17 to\n",
            "[nltk_data]    |     /root/nltk_data...\n",
            "[nltk_data]    |   Package framenet_v17 is already up-to-date!\n",
            "[nltk_data]    | Downloading package gazetteers to /root/nltk_data...\n",
            "[nltk_data]    |   Package gazetteers is already up-to-date!\n",
            "[nltk_data]    | Downloading package genesis to /root/nltk_data...\n",
            "[nltk_data]    |   Package genesis is already up-to-date!\n",
            "[nltk_data]    | Downloading package gutenberg to /root/nltk_data...\n",
            "[nltk_data]    |   Package gutenberg is already up-to-date!\n",
            "[nltk_data]    | Downloading package ieer to /root/nltk_data...\n",
            "[nltk_data]    |   Package ieer is already up-to-date!\n",
            "[nltk_data]    | Downloading package inaugural to /root/nltk_data...\n",
            "[nltk_data]    |   Package inaugural is already up-to-date!\n",
            "[nltk_data]    | Downloading package indian to /root/nltk_data...\n",
            "[nltk_data]    |   Package indian is already up-to-date!\n",
            "[nltk_data]    | Downloading package jeita to /root/nltk_data...\n",
            "[nltk_data]    |   Package jeita is already up-to-date!\n",
            "[nltk_data]    | Downloading package kimmo to /root/nltk_data...\n",
            "[nltk_data]    |   Package kimmo is already up-to-date!\n",
            "[nltk_data]    | Downloading package knbc to /root/nltk_data...\n",
            "[nltk_data]    |   Package knbc is already up-to-date!\n",
            "[nltk_data]    | Downloading package large_grammars to\n",
            "[nltk_data]    |     /root/nltk_data...\n",
            "[nltk_data]    |   Package large_grammars is already up-to-date!\n",
            "[nltk_data]    | Downloading package lin_thesaurus to\n",
            "[nltk_data]    |     /root/nltk_data...\n",
            "[nltk_data]    |   Package lin_thesaurus is already up-to-date!\n",
            "[nltk_data]    | Downloading package mac_morpho to /root/nltk_data...\n",
            "[nltk_data]    |   Package mac_morpho is already up-to-date!\n",
            "[nltk_data]    | Downloading package machado to /root/nltk_data...\n",
            "[nltk_data]    |   Package machado is already up-to-date!\n",
            "[nltk_data]    | Downloading package masc_tagged to /root/nltk_data...\n",
            "[nltk_data]    |   Package masc_tagged is already up-to-date!\n",
            "[nltk_data]    | Downloading package maxent_ne_chunker to\n",
            "[nltk_data]    |     /root/nltk_data...\n",
            "[nltk_data]    |   Package maxent_ne_chunker is already up-to-date!\n",
            "[nltk_data]    | Downloading package maxent_ne_chunker_tab to\n",
            "[nltk_data]    |     /root/nltk_data...\n",
            "[nltk_data]    |   Package maxent_ne_chunker_tab is already up-to-\n",
            "[nltk_data]    |       date!\n",
            "[nltk_data]    | Downloading package maxent_treebank_pos_tagger to\n",
            "[nltk_data]    |     /root/nltk_data...\n",
            "[nltk_data]    |   Package maxent_treebank_pos_tagger is already up-\n",
            "[nltk_data]    |       to-date!\n",
            "[nltk_data]    | Downloading package maxent_treebank_pos_tagger_tab to\n",
            "[nltk_data]    |     /root/nltk_data...\n",
            "[nltk_data]    |   Package maxent_treebank_pos_tagger_tab is already\n",
            "[nltk_data]    |       up-to-date!\n",
            "[nltk_data]    | Downloading package moses_sample to\n",
            "[nltk_data]    |     /root/nltk_data...\n",
            "[nltk_data]    |   Package moses_sample is already up-to-date!\n",
            "[nltk_data]    | Downloading package movie_reviews to\n",
            "[nltk_data]    |     /root/nltk_data...\n",
            "[nltk_data]    |   Package movie_reviews is already up-to-date!\n",
            "[nltk_data]    | Downloading package mte_teip5 to /root/nltk_data...\n",
            "[nltk_data]    |   Package mte_teip5 is already up-to-date!\n",
            "[nltk_data]    | Downloading package mwa_ppdb to /root/nltk_data...\n",
            "[nltk_data]    |   Package mwa_ppdb is already up-to-date!\n",
            "[nltk_data]    | Downloading package names to /root/nltk_data...\n",
            "[nltk_data]    |   Package names is already up-to-date!\n",
            "[nltk_data]    | Downloading package nombank.1.0 to /root/nltk_data...\n",
            "[nltk_data]    |   Package nombank.1.0 is already up-to-date!\n",
            "[nltk_data]    | Downloading package nonbreaking_prefixes to\n",
            "[nltk_data]    |     /root/nltk_data...\n",
            "[nltk_data]    |   Package nonbreaking_prefixes is already up-to-date!\n",
            "[nltk_data]    | Downloading package nps_chat to /root/nltk_data...\n",
            "[nltk_data]    |   Package nps_chat is already up-to-date!\n",
            "[nltk_data]    | Downloading package omw to /root/nltk_data...\n",
            "[nltk_data]    |   Package omw is already up-to-date!\n",
            "[nltk_data]    | Downloading package omw-1.4 to /root/nltk_data...\n",
            "[nltk_data]    |   Package omw-1.4 is already up-to-date!\n",
            "[nltk_data]    | Downloading package opinion_lexicon to\n",
            "[nltk_data]    |     /root/nltk_data...\n",
            "[nltk_data]    |   Package opinion_lexicon is already up-to-date!\n",
            "[nltk_data]    | Downloading package panlex_swadesh to\n",
            "[nltk_data]    |     /root/nltk_data...\n",
            "[nltk_data]    |   Package panlex_swadesh is already up-to-date!\n",
            "[nltk_data]    | Downloading package paradigms to /root/nltk_data...\n",
            "[nltk_data]    |   Package paradigms is already up-to-date!\n",
            "[nltk_data]    | Downloading package pe08 to /root/nltk_data...\n",
            "[nltk_data]    |   Package pe08 is already up-to-date!\n",
            "[nltk_data]    | Downloading package perluniprops to\n",
            "[nltk_data]    |     /root/nltk_data...\n",
            "[nltk_data]    |   Package perluniprops is already up-to-date!\n",
            "[nltk_data]    | Downloading package pil to /root/nltk_data...\n",
            "[nltk_data]    |   Package pil is already up-to-date!\n",
            "[nltk_data]    | Downloading package pl196x to /root/nltk_data...\n",
            "[nltk_data]    |   Package pl196x is already up-to-date!\n",
            "[nltk_data]    | Downloading package porter_test to /root/nltk_data...\n",
            "[nltk_data]    |   Package porter_test is already up-to-date!\n",
            "[nltk_data]    | Downloading package ppattach to /root/nltk_data...\n",
            "[nltk_data]    |   Package ppattach is already up-to-date!\n",
            "[nltk_data]    | Downloading package problem_reports to\n",
            "[nltk_data]    |     /root/nltk_data...\n",
            "[nltk_data]    |   Package problem_reports is already up-to-date!\n",
            "[nltk_data]    | Downloading package product_reviews_1 to\n",
            "[nltk_data]    |     /root/nltk_data...\n",
            "[nltk_data]    |   Package product_reviews_1 is already up-to-date!\n",
            "[nltk_data]    | Downloading package product_reviews_2 to\n",
            "[nltk_data]    |     /root/nltk_data...\n",
            "[nltk_data]    |   Package product_reviews_2 is already up-to-date!\n",
            "[nltk_data]    | Downloading package propbank to /root/nltk_data...\n",
            "[nltk_data]    |   Package propbank is already up-to-date!\n",
            "[nltk_data]    | Downloading package pros_cons to /root/nltk_data...\n",
            "[nltk_data]    |   Package pros_cons is already up-to-date!\n",
            "[nltk_data]    | Downloading package ptb to /root/nltk_data...\n",
            "[nltk_data]    |   Package ptb is already up-to-date!\n",
            "[nltk_data]    | Downloading package punkt to /root/nltk_data...\n",
            "[nltk_data]    |   Package punkt is already up-to-date!\n",
            "[nltk_data]    | Downloading package punkt_tab to /root/nltk_data...\n",
            "[nltk_data]    |   Package punkt_tab is already up-to-date!\n",
            "[nltk_data]    | Downloading package qc to /root/nltk_data...\n",
            "[nltk_data]    |   Package qc is already up-to-date!\n",
            "[nltk_data]    | Downloading package reuters to /root/nltk_data...\n",
            "[nltk_data]    |   Package reuters is already up-to-date!\n",
            "[nltk_data]    | Downloading package rslp to /root/nltk_data...\n",
            "[nltk_data]    |   Package rslp is already up-to-date!\n",
            "[nltk_data]    | Downloading package rte to /root/nltk_data...\n",
            "[nltk_data]    |   Package rte is already up-to-date!\n",
            "[nltk_data]    | Downloading package sample_grammars to\n",
            "[nltk_data]    |     /root/nltk_data...\n",
            "[nltk_data]    |   Package sample_grammars is already up-to-date!\n",
            "[nltk_data]    | Downloading package semcor to /root/nltk_data...\n",
            "[nltk_data]    |   Package semcor is already up-to-date!\n",
            "[nltk_data]    | Downloading package senseval to /root/nltk_data...\n",
            "[nltk_data]    |   Package senseval is already up-to-date!\n",
            "[nltk_data]    | Downloading package sentence_polarity to\n",
            "[nltk_data]    |     /root/nltk_data...\n",
            "[nltk_data]    |   Package sentence_polarity is already up-to-date!\n",
            "[nltk_data]    | Downloading package sentiwordnet to\n",
            "[nltk_data]    |     /root/nltk_data...\n",
            "[nltk_data]    |   Package sentiwordnet is already up-to-date!\n",
            "[nltk_data]    | Downloading package shakespeare to /root/nltk_data...\n",
            "[nltk_data]    |   Package shakespeare is already up-to-date!\n",
            "[nltk_data]    | Downloading package sinica_treebank to\n",
            "[nltk_data]    |     /root/nltk_data...\n",
            "[nltk_data]    |   Package sinica_treebank is already up-to-date!\n",
            "[nltk_data]    | Downloading package smultron to /root/nltk_data...\n",
            "[nltk_data]    |   Package smultron is already up-to-date!\n",
            "[nltk_data]    | Downloading package snowball_data to\n",
            "[nltk_data]    |     /root/nltk_data...\n",
            "[nltk_data]    |   Package snowball_data is already up-to-date!\n",
            "[nltk_data]    | Downloading package spanish_grammars to\n",
            "[nltk_data]    |     /root/nltk_data...\n",
            "[nltk_data]    |   Package spanish_grammars is already up-to-date!\n",
            "[nltk_data]    | Downloading package state_union to /root/nltk_data...\n",
            "[nltk_data]    |   Package state_union is already up-to-date!\n",
            "[nltk_data]    | Downloading package stopwords to /root/nltk_data...\n",
            "[nltk_data]    |   Package stopwords is already up-to-date!\n",
            "[nltk_data]    | Downloading package subjectivity to\n",
            "[nltk_data]    |     /root/nltk_data...\n",
            "[nltk_data]    |   Package subjectivity is already up-to-date!\n",
            "[nltk_data]    | Downloading package swadesh to /root/nltk_data...\n",
            "[nltk_data]    |   Package swadesh is already up-to-date!\n",
            "[nltk_data]    | Downloading package switchboard to /root/nltk_data...\n",
            "[nltk_data]    |   Package switchboard is already up-to-date!\n",
            "[nltk_data]    | Downloading package tagsets to /root/nltk_data...\n",
            "[nltk_data]    |   Package tagsets is already up-to-date!\n",
            "[nltk_data]    | Downloading package tagsets_json to\n",
            "[nltk_data]    |     /root/nltk_data...\n",
            "[nltk_data]    |   Package tagsets_json is already up-to-date!\n",
            "[nltk_data]    | Downloading package timit to /root/nltk_data...\n",
            "[nltk_data]    |   Package timit is already up-to-date!\n",
            "[nltk_data]    | Downloading package toolbox to /root/nltk_data...\n",
            "[nltk_data]    |   Package toolbox is already up-to-date!\n",
            "[nltk_data]    | Downloading package treebank to /root/nltk_data...\n",
            "[nltk_data]    |   Package treebank is already up-to-date!\n",
            "[nltk_data]    | Downloading package twitter_samples to\n",
            "[nltk_data]    |     /root/nltk_data...\n",
            "[nltk_data]    |   Package twitter_samples is already up-to-date!\n",
            "[nltk_data]    | Downloading package udhr to /root/nltk_data...\n",
            "[nltk_data]    |   Package udhr is already up-to-date!\n",
            "[nltk_data]    | Downloading package udhr2 to /root/nltk_data...\n",
            "[nltk_data]    |   Package udhr2 is already up-to-date!\n",
            "[nltk_data]    | Downloading package unicode_samples to\n",
            "[nltk_data]    |     /root/nltk_data...\n",
            "[nltk_data]    |   Package unicode_samples is already up-to-date!\n",
            "[nltk_data]    | Downloading package universal_tagset to\n",
            "[nltk_data]    |     /root/nltk_data...\n",
            "[nltk_data]    |   Package universal_tagset is already up-to-date!\n",
            "[nltk_data]    | Downloading package universal_treebanks_v20 to\n",
            "[nltk_data]    |     /root/nltk_data...\n",
            "[nltk_data]    |   Package universal_treebanks_v20 is already up-to-\n",
            "[nltk_data]    |       date!\n",
            "[nltk_data]    | Downloading package vader_lexicon to\n",
            "[nltk_data]    |     /root/nltk_data...\n",
            "[nltk_data]    |   Package vader_lexicon is already up-to-date!\n",
            "[nltk_data]    | Downloading package verbnet to /root/nltk_data...\n",
            "[nltk_data]    |   Package verbnet is already up-to-date!\n",
            "[nltk_data]    | Downloading package verbnet3 to /root/nltk_data...\n",
            "[nltk_data]    |   Package verbnet3 is already up-to-date!\n",
            "[nltk_data]    | Downloading package webtext to /root/nltk_data...\n",
            "[nltk_data]    |   Package webtext is already up-to-date!\n",
            "[nltk_data]    | Downloading package wmt15_eval to /root/nltk_data...\n",
            "[nltk_data]    |   Package wmt15_eval is already up-to-date!\n",
            "[nltk_data]    | Downloading package word2vec_sample to\n",
            "[nltk_data]    |     /root/nltk_data...\n",
            "[nltk_data]    |   Package word2vec_sample is already up-to-date!\n",
            "[nltk_data]    | Downloading package wordnet to /root/nltk_data...\n",
            "[nltk_data]    |   Package wordnet is already up-to-date!\n",
            "[nltk_data]    | Downloading package wordnet2021 to /root/nltk_data...\n",
            "[nltk_data]    |   Package wordnet2021 is already up-to-date!\n",
            "[nltk_data]    | Downloading package wordnet2022 to /root/nltk_data...\n",
            "[nltk_data]    |   Package wordnet2022 is already up-to-date!\n",
            "[nltk_data]    | Downloading package wordnet31 to /root/nltk_data...\n",
            "[nltk_data]    |   Package wordnet31 is already up-to-date!\n",
            "[nltk_data]    | Downloading package wordnet_ic to /root/nltk_data...\n",
            "[nltk_data]    |   Package wordnet_ic is already up-to-date!\n",
            "[nltk_data]    | Downloading package words to /root/nltk_data...\n",
            "[nltk_data]    |   Package words is already up-to-date!\n",
            "[nltk_data]    | Downloading package ycoe to /root/nltk_data...\n",
            "[nltk_data]    |   Package ycoe is already up-to-date!\n",
            "[nltk_data]    | \n",
            "[nltk_data]  Done downloading collection all\n"
          ]
        },
        {
          "output_type": "execute_result",
          "data": {
            "text/plain": [
              "True"
            ]
          },
          "metadata": {},
          "execution_count": 45
        }
      ]
    },
    {
      "cell_type": "code",
      "execution_count": 46,
      "metadata": {
        "id": "0OAXJme6hIG7",
        "colab": {
          "base_uri": "https://localhost:8080/"
        },
        "outputId": "fd21dd79-467d-4dd8-e45c-8131e31761f9"
      },
      "outputs": [
        {
          "output_type": "stream",
          "name": "stdout",
          "text": [
            "Requirement already satisfied: python-docx in /usr/local/lib/python3.10/dist-packages (1.1.2)\n",
            "Requirement already satisfied: nltk in /usr/local/lib/python3.10/dist-packages (3.8.1)\n",
            "Requirement already satisfied: lxml>=3.1.0 in /usr/local/lib/python3.10/dist-packages (from python-docx) (4.9.4)\n",
            "Requirement already satisfied: typing-extensions>=4.9.0 in /usr/local/lib/python3.10/dist-packages (from python-docx) (4.12.2)\n",
            "Requirement already satisfied: click in /usr/local/lib/python3.10/dist-packages (from nltk) (8.1.7)\n",
            "Requirement already satisfied: joblib in /usr/local/lib/python3.10/dist-packages (from nltk) (1.4.2)\n",
            "Requirement already satisfied: regex>=2021.8.3 in /usr/local/lib/python3.10/dist-packages (from nltk) (2024.5.15)\n",
            "Requirement already satisfied: tqdm in /usr/local/lib/python3.10/dist-packages (from nltk) (4.66.5)\n"
          ]
        }
      ],
      "source": [
        "pip install python-docx nltk\n"
      ]
    },
    {
      "cell_type": "code",
      "source": [
        "import docx\n",
        "import nltk\n",
        "from nltk.corpus import stopwords\n",
        "nltk.download('punkt')\n",
        "nltk.download(\"stopwords\")\n",
        "from nltk.tokenize import word_tokenize\n",
        "nltk.download('punkt')\n",
        "nltk.download('averaged perceptron_tagger')"
      ],
      "metadata": {
        "colab": {
          "base_uri": "https://localhost:8080/"
        },
        "id": "nsbD1DK9t0q4",
        "outputId": "5ba9af0d-afb6-4529-f09d-5d1ccf2bf040"
      },
      "execution_count": 47,
      "outputs": [
        {
          "output_type": "stream",
          "name": "stderr",
          "text": [
            "[nltk_data] Downloading package punkt to /root/nltk_data...\n",
            "[nltk_data]   Package punkt is already up-to-date!\n",
            "[nltk_data] Downloading package stopwords to /root/nltk_data...\n",
            "[nltk_data]   Package stopwords is already up-to-date!\n",
            "[nltk_data] Downloading package punkt to /root/nltk_data...\n",
            "[nltk_data]   Package punkt is already up-to-date!\n",
            "[nltk_data] Error loading averaged perceptron_tagger: Package\n",
            "[nltk_data]     'averaged perceptron_tagger' not found in index\n"
          ]
        },
        {
          "output_type": "execute_result",
          "data": {
            "text/plain": [
              "False"
            ]
          },
          "metadata": {},
          "execution_count": 47
        }
      ]
    },
    {
      "cell_type": "code",
      "source": [
        "import docx\n",
        "import nltk\n",
        "nltk.download('wordnet')\n",
        "from nltk.stem import PorterStemmer, WordNetLemmatizer"
      ],
      "metadata": {
        "colab": {
          "base_uri": "https://localhost:8080/"
        },
        "id": "0HW2cTqOuYFi",
        "outputId": "2fe03617-3c8e-43f0-f3d1-ebcc73a5b6ae"
      },
      "execution_count": 48,
      "outputs": [
        {
          "output_type": "stream",
          "name": "stderr",
          "text": [
            "[nltk_data] Downloading package wordnet to /root/nltk_data...\n",
            "[nltk_data]   Package wordnet is already up-to-date!\n"
          ]
        }
      ]
    },
    {
      "cell_type": "code",
      "source": [
        "doc = docx.Document(\"The Enchanted Forest Adventure.docx\")\n",
        "\n",
        "#Get all the sentences in the document\n",
        "sentences = []\n",
        "for paragraph in doc.paragraphs:\n",
        "   sentences.append(paragraph.text)\n",
        "\n",
        "#Create a PorterStemmer object\n",
        "stemmer = PorterStemmer()\n",
        "\n",
        "#Create a WordNetLemmatizer object\n",
        "\n",
        "lemmatizer = WordNetLemmatizer()\n",
        "\n",
        "#stemming\n",
        "\n",
        "stemmed_sentences = []\n",
        "for sentence in sentences:\n",
        "  stemmed_sentence = []\n",
        "  for word in sentence.split():\n",
        "    stemmed_word = stemmer.stem(word)\n",
        "    stemmed_sentence.append(stemmed_word)\n",
        "  stemmed_sentences.append(''.join(stemmed_sentence))\n",
        "\n",
        "#lemmatization\n",
        "\n",
        "lemmatized_sentences = []\n",
        "for sentence in sentences:\n",
        "  lemmatized_sentence = []"
      ],
      "metadata": {
        "id": "EH10ypq5uwMx"
      },
      "execution_count": 49,
      "outputs": []
    },
    {
      "cell_type": "code",
      "source": [
        "for word in sentence.split():\n",
        "  lemmatized_word = lemmatizer.lemmatize(word)\n",
        "  lemmatized_sentence.append(lemmatized_word)\n",
        "lemmatized_sentences.append(' '.join(lemmatized_sentence))\n",
        "\n",
        "print(\"Stemmed sentences:\")\n",
        "print (stemmed_sentences)\n"
      ],
      "metadata": {
        "colab": {
          "base_uri": "https://localhost:8080/"
        },
        "id": "v9J8xCttvmRT",
        "outputId": "1011fd03-0634-4f0f-e670-0e0f40f3bafe"
      },
      "execution_count": 50,
      "outputs": [
        {
          "output_type": "stream",
          "name": "stdout",
          "text": [
            "Stemmed sentences:\n",
            "['paragraphfornlptasks:', 'inthedigitage,datahabecomacriticassetfororganworldwide.theabiltoanalyzlargdatasetefficihaledtobreakthroughinvarioufields,rangfromhealthcartofinance,andevenentertainment.withinthilandscape,naturlanguagprocess(nlp)haemergasapivottoolthatenablcomputtounderstand,interpret,andmanipulhumanlanguage.nlpencompassarangoftasks,suchastextclassification,sentimentanalysis,machintranslation,andnameentitirecognition,tonamejustafew.despittheseadvancements,thechallengassociwithprocessandanalyztextdataremainsignificant,owetothecomplexandambiguinherinhumanlanguages.', 'oneoftheprimaristepinnlpispreprocessing,whichinvolvtransformrawtextintoastructurformatsuitablforanalysis.thistepiscrucialasitdirectliaffecttheperformofnlpmodelandalgorithms.thefirsttechniqucommonliemployinpreprocessisstemming,whichreducwordtotheirrootorbaseform.stemisparticularliuseforreducthedimensionofthetext,whichmakeiteasiertohandlcomputationally.forinstance,theword\"playing,\"\"played,\"and\"plays\"areallreductothecommonbaseform\"play.\"whilestemcaneffectcondenswordintotheirmostfundamentform,itoftenresultinstemthatarenotvalidwordthemselves,whichcanleadtosomelossofinterpretinthetext.nevertheless,stemremainanessentitoolinmaninlppipelines,particularlifortasklikeinformretrievandsearchengines.', 'anothvitalpreprocesstechniquislemmatization.unlikstemming,whichonlichopoffsuffixes,lemmatismoresophisticated;itreducwordtotheirdictionariform,orlemma,byconsidthecontextinwhichtheyareused.thitechniqunotonlifocusontherootofthewordbutalsoensurthatthetransformwordisanactuallanguagword.forexample,theword\"better\"wouldbereducto\"good,\"and\"went\"wouldbereducto\"go.\"lemmattakeintoaccountthemorphologanalysiofthewords,makeitamoreaccurprocesscompartostemming.itisparticularliuseinapplicwhereunderstandthecorrectmeanofwordisessential,suchasinmachintranslation,wherewordmustbeaccurinterpretbaseontheircontext.', 'beyondstemandlemmatization,anothcommonpreprocessstepisstopwordremoval.stopwordarecommonwordinanilanguagthatusualdonotcarrisubstantimeaninthecontextoftheanalysis.examplofstopwordinenglishinclud\"the,\"\"is,\"\"in,\"\"and,\"\"on,\"\"at,\"etc.whilethesewordareessentiforhumancommunication,theyareoftennotuseinnlptasks,suchastextclassification,becaustheydonotcontributsignificantlitothetext\\'meaning.removstopwordhelpreducthesizeofthedataset,therebiincreasthecomputefficioftheanalysis.however,itisworthnotethattheremovofstopwordshouldbecareconsiddependonthespeciftask.insomecases,suchassentimentanalysis,stopwordmaycarrisubtlmeanthatcouldimpacttheinterpretofthetext.', 'anothessentitechniquinnlpisthebagofword(bow)model,asimplandwideusemethodforfeaturextractfromtext.thebowmodelreprestextdataasacollectofwordwithoutconsidgrammar,syntax,orwordorder.themainideabehindbowistocreatavocabulariofalltheuniquwordinthetextandthenrepreseachdocumentasavectorbaseonthefrequencofthesewords.thitechniquishighlieffectfortextclassiftasks,wherethepresencorabsencofspecifwordismoreimportthantheirorderorcontext.however,thebowmodelhasomelimitations,suchasignorthesemantmeanofthewordandfailtocapturthenuancofthelanguage.despittheselimitations,itisstillavaluabltoolforbuildsimplyeteffecttextclassifmodels,especiwhencombinwithothertechniquliketf-idf(termfrequency-inversdocumentfrequency)forweighttheimportofwordinthetext.', 'tounderstandtheimportofthesenlptasks,considtheexamplofsentimentanalysis,whichaimtodetermintheemottonebehindabodioftext.forinstance,let\\'analyzthefollowreviewofaproduct:\"iabsolutlovethiphone!ithaanamazcamera,andthebatterilifeisincredible.however,thescreenisabittoolargformyliking,butoverall,it\\'anexcelpurchase.\"beforapplianimachinlearnalgorithms,weneedtopreprocessthitext.thefirststepwouldbetoconvertthetextintolowercastoensuruniformsinc\"love\"and\"love\"shouldbetreatasthesameword.next,wecouldperformstopwordremovtoeliminwordlike\"it,\"\"an,\"and\"the,\"whichdonotcontributsignificantlitotheoveralsentiment.then,wecouldapplilemmattoreducwordlike\"loving\"to\"love\"and\"incredible\"to\"incredible\"(sincit\\'alreadiinitbaseform).finally,usethebagofwordmodel,wecanrepresthetextasafrequencvector,wherewordlike\"love,\"\"amazing,\"and\"excellent\"willhavehigherweights,indicpositsentiment.', 'theprocessofprepartextdatafornlptaskalsoinvolvdealwithvariouchallengsuchashandlpunctuation,specialcharacters,typos,andmisspellings.forexample,punctuatmarklikecommas,periods,exclammarks,andquestionmarkcansignificantliaffecttheinterpretofthetext.whilesomenlpapplicmayrequirpreservpunctuatmarktounderstandthecontextortone,othermaychoostoremovthemtosimplifithetextrepresentation.similarly,specialcharactlikehashtags,mentions,andemojis,commonlifoundinsocialmediatexts,mayneedtoberetainorremovdependonthespecifusecase.additionally,dealwithtypoandmisspeliscrucial,especiwhenworkwithuser-genercontentorinformtextdata,wheresucherrorarecommon.techniqulikespell-checkandtextnormalcanhelpimprovthequalitiofthedatabeforanalysis.', '']\n"
          ]
        }
      ]
    },
    {
      "cell_type": "code",
      "source": [
        "print(\"lemmatized_sentences:\")\n",
        "print(lemmatized_sentences)\n"
      ],
      "metadata": {
        "colab": {
          "base_uri": "https://localhost:8080/"
        },
        "id": "2ljrtKwxxHxa",
        "outputId": "202d91d6-338e-49db-ba5b-380faf79481f"
      },
      "execution_count": 51,
      "outputs": [
        {
          "output_type": "stream",
          "name": "stdout",
          "text": [
            "lemmatized_sentences:\n",
            "['']\n"
          ]
        }
      ]
    },
    {
      "cell_type": "code",
      "source": [
        "extracted_text = \"\"\n",
        "for paragraph in doc.paragraphs:\n",
        "  extracted_text += paragraph.text + '\\n'\n",
        "words = word_tokenize(extracted_text)"
      ],
      "metadata": {
        "id": "COYdTOkjxipV"
      },
      "execution_count": 52,
      "outputs": []
    },
    {
      "cell_type": "code",
      "source": [
        "tags = nltk.pos_tag(words)\n",
        "print(tags)"
      ],
      "metadata": {
        "colab": {
          "base_uri": "https://localhost:8080/"
        },
        "id": "j8zgTx3kzaUO",
        "outputId": "9149c527-bbd9-4915-fc2b-11e6514fbdc7"
      },
      "execution_count": 53,
      "outputs": [
        {
          "output_type": "stream",
          "name": "stdout",
          "text": [
            "[('Paragraph', 'NNP'), ('for', 'IN'), ('NLP', 'NNP'), ('Tasks', 'NNP'), (':', ':'), ('In', 'IN'), ('the', 'DT'), ('digital', 'JJ'), ('age', 'NN'), (',', ','), ('data', 'NN'), ('has', 'VBZ'), ('become', 'VBN'), ('a', 'DT'), ('critical', 'JJ'), ('asset', 'NN'), ('for', 'IN'), ('organizations', 'NNS'), ('worldwide', 'RB'), ('.', '.'), ('The', 'DT'), ('ability', 'NN'), ('to', 'TO'), ('analyze', 'VB'), ('large', 'JJ'), ('datasets', 'NNS'), ('efficiently', 'RB'), ('has', 'VBZ'), ('led', 'VBN'), ('to', 'TO'), ('breakthroughs', 'VB'), ('in', 'IN'), ('various', 'JJ'), ('fields', 'NNS'), (',', ','), ('ranging', 'VBG'), ('from', 'IN'), ('healthcare', 'NN'), ('to', 'TO'), ('finance', 'VB'), (',', ','), ('and', 'CC'), ('even', 'RB'), ('entertainment', 'NN'), ('.', '.'), ('Within', 'IN'), ('this', 'DT'), ('landscape', 'NN'), (',', ','), ('Natural', 'NNP'), ('Language', 'NNP'), ('Processing', 'NNP'), ('(', '('), ('NLP', 'NNP'), (')', ')'), ('has', 'VBZ'), ('emerged', 'VBN'), ('as', 'IN'), ('a', 'DT'), ('pivotal', 'JJ'), ('tool', 'NN'), ('that', 'IN'), ('enables', 'VBZ'), ('computers', 'NNS'), ('to', 'TO'), ('understand', 'VB'), (',', ','), ('interpret', 'VB'), (',', ','), ('and', 'CC'), ('manipulate', 'VB'), ('human', 'JJ'), ('language', 'NN'), ('.', '.'), ('NLP', 'NNP'), ('encompasses', 'VBZ'), ('a', 'DT'), ('range', 'NN'), ('of', 'IN'), ('tasks', 'NNS'), (',', ','), ('such', 'JJ'), ('as', 'IN'), ('text', 'JJ'), ('classification', 'NN'), (',', ','), ('sentiment', 'NN'), ('analysis', 'NN'), (',', ','), ('machine', 'NN'), ('translation', 'NN'), (',', ','), ('and', 'CC'), ('named', 'VBN'), ('entity', 'NN'), ('recognition', 'NN'), (',', ','), ('to', 'TO'), ('name', 'VB'), ('just', 'RB'), ('a', 'DT'), ('few', 'JJ'), ('.', '.'), ('Despite', 'IN'), ('these', 'DT'), ('advancements', 'NNS'), (',', ','), ('the', 'DT'), ('challenges', 'NNS'), ('associated', 'VBN'), ('with', 'IN'), ('processing', 'NN'), ('and', 'CC'), ('analyzing', 'VBG'), ('text', 'NN'), ('data', 'NNS'), ('remain', 'VBP'), ('significant', 'JJ'), (',', ','), ('owing', 'VBG'), ('to', 'TO'), ('the', 'DT'), ('complexity', 'NN'), ('and', 'CC'), ('ambiguity', 'NN'), ('inherent', 'NN'), ('in', 'IN'), ('human', 'JJ'), ('languages', 'NNS'), ('.', '.'), ('One', 'CD'), ('of', 'IN'), ('the', 'DT'), ('primary', 'JJ'), ('steps', 'NNS'), ('in', 'IN'), ('NLP', 'NNP'), ('is', 'VBZ'), ('preprocessing', 'VBG'), (',', ','), ('which', 'WDT'), ('involves', 'VBZ'), ('transforming', 'VBG'), ('raw', 'JJ'), ('text', 'NN'), ('into', 'IN'), ('a', 'DT'), ('structured', 'JJ'), ('format', 'NN'), ('suitable', 'JJ'), ('for', 'IN'), ('analysis', 'NN'), ('.', '.'), ('This', 'DT'), ('step', 'NN'), ('is', 'VBZ'), ('crucial', 'JJ'), ('as', 'IN'), ('it', 'PRP'), ('directly', 'RB'), ('affects', 'VBZ'), ('the', 'DT'), ('performance', 'NN'), ('of', 'IN'), ('NLP', 'NNP'), ('models', 'NNS'), ('and', 'CC'), ('algorithms', 'NN'), ('.', '.'), ('The', 'DT'), ('first', 'JJ'), ('technique', 'NN'), ('commonly', 'RB'), ('employed', 'VBN'), ('in', 'IN'), ('preprocessing', 'NN'), ('is', 'VBZ'), ('stemming', 'VBG'), (',', ','), ('which', 'WDT'), ('reduces', 'VBZ'), ('words', 'NNS'), ('to', 'TO'), ('their', 'PRP$'), ('root', 'NN'), ('or', 'CC'), ('base', 'NN'), ('form', 'NN'), ('.', '.'), ('Stemming', 'NNP'), ('is', 'VBZ'), ('particularly', 'RB'), ('useful', 'JJ'), ('for', 'IN'), ('reducing', 'VBG'), ('the', 'DT'), ('dimensionality', 'NN'), ('of', 'IN'), ('the', 'DT'), ('text', 'NN'), (',', ','), ('which', 'WDT'), ('makes', 'VBZ'), ('it', 'PRP'), ('easier', 'JJR'), ('to', 'TO'), ('handle', 'VB'), ('computationally', 'RB'), ('.', '.'), ('For', 'IN'), ('instance', 'NN'), (',', ','), ('the', 'DT'), ('words', 'NNS'), ('``', '``'), ('playing', 'NN'), (',', ','), (\"''\", \"''\"), ('``', '``'), ('played', 'VBD'), (',', ','), (\"''\", \"''\"), ('and', 'CC'), ('``', '``'), ('plays', 'NNS'), (\"''\", \"''\"), ('are', 'VBP'), ('all', 'DT'), ('reduced', 'VBN'), ('to', 'TO'), ('the', 'DT'), ('common', 'JJ'), ('base', 'NN'), ('form', 'NN'), ('``', '``'), ('play', 'NN'), ('.', '.'), (\"''\", \"''\"), ('While', 'IN'), ('stemming', 'VBG'), ('can', 'MD'), ('effectively', 'RB'), ('condense', 'VB'), ('words', 'NNS'), ('into', 'IN'), ('their', 'PRP$'), ('most', 'JJS'), ('fundamental', 'JJ'), ('form', 'NN'), (',', ','), ('it', 'PRP'), ('often', 'RB'), ('results', 'NNS'), ('in', 'IN'), ('stems', 'NNS'), ('that', 'WDT'), ('are', 'VBP'), ('not', 'RB'), ('valid', 'JJ'), ('words', 'NNS'), ('themselves', 'PRP'), (',', ','), ('which', 'WDT'), ('can', 'MD'), ('lead', 'VB'), ('to', 'TO'), ('some', 'DT'), ('loss', 'NN'), ('of', 'IN'), ('interpretability', 'NN'), ('in', 'IN'), ('the', 'DT'), ('text', 'NN'), ('.', '.'), ('Nevertheless', 'NNP'), (',', ','), ('stemming', 'VBG'), ('remains', 'VBZ'), ('an', 'DT'), ('essential', 'JJ'), ('tool', 'NN'), ('in', 'IN'), ('many', 'JJ'), ('NLP', 'NNP'), ('pipelines', 'NNS'), (',', ','), ('particularly', 'RB'), ('for', 'IN'), ('tasks', 'NNS'), ('like', 'IN'), ('information', 'NN'), ('retrieval', 'NN'), ('and', 'CC'), ('search', 'NN'), ('engines', 'NNS'), ('.', '.'), ('Another', 'DT'), ('vital', 'JJ'), ('preprocessing', 'NN'), ('technique', 'NN'), ('is', 'VBZ'), ('lemmatization', 'NN'), ('.', '.'), ('Unlike', 'IN'), ('stemming', 'NN'), (',', ','), ('which', 'WDT'), ('only', 'RB'), ('chops', 'VBZ'), ('off', 'IN'), ('suffixes', 'NNS'), (',', ','), ('lemmatization', 'NN'), ('is', 'VBZ'), ('more', 'RBR'), ('sophisticated', 'JJ'), (';', ':'), ('it', 'PRP'), ('reduces', 'VBZ'), ('words', 'NNS'), ('to', 'TO'), ('their', 'PRP$'), ('dictionary', 'JJ'), ('form', 'NN'), (',', ','), ('or', 'CC'), ('lemma', 'NN'), (',', ','), ('by', 'IN'), ('considering', 'VBG'), ('the', 'DT'), ('context', 'NN'), ('in', 'IN'), ('which', 'WDT'), ('they', 'PRP'), ('are', 'VBP'), ('used', 'VBN'), ('.', '.'), ('This', 'DT'), ('technique', 'NN'), ('not', 'RB'), ('only', 'RB'), ('focuses', 'VBZ'), ('on', 'IN'), ('the', 'DT'), ('root', 'NN'), ('of', 'IN'), ('the', 'DT'), ('word', 'NN'), ('but', 'CC'), ('also', 'RB'), ('ensures', 'VBZ'), ('that', 'IN'), ('the', 'DT'), ('transformed', 'JJ'), ('word', 'NN'), ('is', 'VBZ'), ('an', 'DT'), ('actual', 'JJ'), ('language', 'NN'), ('word', 'NN'), ('.', '.'), ('For', 'IN'), ('example', 'NN'), (',', ','), ('the', 'DT'), ('word', 'NN'), ('``', '``'), ('better', 'JJR'), (\"''\", \"''\"), ('would', 'MD'), ('be', 'VB'), ('reduced', 'VBN'), ('to', 'TO'), ('``', '``'), ('good', 'JJ'), (',', ','), (\"''\", \"''\"), ('and', 'CC'), ('``', '``'), ('went', 'VBD'), (\"''\", \"''\"), ('would', 'MD'), ('be', 'VB'), ('reduced', 'VBN'), ('to', 'TO'), ('``', '``'), ('go', 'VB'), ('.', '.'), (\"''\", \"''\"), ('Lemmatization', 'NN'), ('takes', 'VBZ'), ('into', 'IN'), ('account', 'NN'), ('the', 'DT'), ('morphological', 'JJ'), ('analysis', 'NN'), ('of', 'IN'), ('the', 'DT'), ('words', 'NNS'), (',', ','), ('making', 'VBG'), ('it', 'PRP'), ('a', 'DT'), ('more', 'RBR'), ('accurate', 'JJ'), ('process', 'NN'), ('compared', 'VBN'), ('to', 'TO'), ('stemming', 'VBG'), ('.', '.'), ('It', 'PRP'), ('is', 'VBZ'), ('particularly', 'RB'), ('useful', 'JJ'), ('in', 'IN'), ('applications', 'NNS'), ('where', 'WRB'), ('understanding', 'VBG'), ('the', 'DT'), ('correct', 'JJ'), ('meaning', 'NN'), ('of', 'IN'), ('words', 'NNS'), ('is', 'VBZ'), ('essential', 'JJ'), (',', ','), ('such', 'JJ'), ('as', 'IN'), ('in', 'IN'), ('machine', 'NN'), ('translation', 'NN'), (',', ','), ('where', 'WRB'), ('words', 'NNS'), ('must', 'MD'), ('be', 'VB'), ('accurately', 'RB'), ('interpreted', 'VBN'), ('based', 'VBN'), ('on', 'IN'), ('their', 'PRP$'), ('context', 'NN'), ('.', '.'), ('Beyond', 'NNP'), ('stemming', 'NN'), ('and', 'CC'), ('lemmatization', 'NN'), (',', ','), ('another', 'DT'), ('common', 'JJ'), ('preprocessing', 'VBG'), ('step', 'NN'), ('is', 'VBZ'), ('stop', 'JJ'), ('word', 'NN'), ('removal', 'NN'), ('.', '.'), ('Stop', 'VB'), ('words', 'NNS'), ('are', 'VBP'), ('common', 'JJ'), ('words', 'NNS'), ('in', 'IN'), ('any', 'DT'), ('language', 'NN'), ('that', 'WDT'), ('usually', 'RB'), ('do', 'VBP'), ('not', 'RB'), ('carry', 'VB'), ('substantial', 'JJ'), ('meaning', 'NN'), ('in', 'IN'), ('the', 'DT'), ('context', 'NN'), ('of', 'IN'), ('the', 'DT'), ('analysis', 'NN'), ('.', '.'), ('Examples', 'NNS'), ('of', 'IN'), ('stop', 'NN'), ('words', 'NNS'), ('in', 'IN'), ('English', 'NNP'), ('include', 'VBP'), ('``', '``'), ('the', 'DT'), (',', ','), (\"''\", \"''\"), ('``', '``'), ('is', 'VBZ'), (',', ','), (\"''\", \"''\"), ('``', '``'), ('in', 'IN'), (',', ','), (\"''\", \"''\"), ('``', '``'), ('and', 'CC'), (',', ','), (\"''\", \"''\"), ('``', '``'), ('on', 'IN'), (',', ','), (\"''\", \"''\"), ('``', '``'), ('at', 'IN'), (',', ','), (\"''\", \"''\"), ('etc', 'NN'), ('.', '.'), ('While', 'IN'), ('these', 'DT'), ('words', 'NNS'), ('are', 'VBP'), ('essential', 'JJ'), ('for', 'IN'), ('human', 'JJ'), ('communication', 'NN'), (',', ','), ('they', 'PRP'), ('are', 'VBP'), ('often', 'RB'), ('not', 'RB'), ('useful', 'JJ'), ('in', 'IN'), ('NLP', 'NNP'), ('tasks', 'NNS'), (',', ','), ('such', 'JJ'), ('as', 'IN'), ('text', 'JJ'), ('classification', 'NN'), (',', ','), ('because', 'IN'), ('they', 'PRP'), ('do', 'VBP'), ('not', 'RB'), ('contribute', 'VB'), ('significantly', 'RB'), ('to', 'TO'), ('the', 'DT'), ('text', 'NN'), (\"'s\", 'POS'), ('meaning', 'NN'), ('.', '.'), ('Removing', 'VBG'), ('stop', 'JJ'), ('words', 'NNS'), ('helps', 'VBZ'), ('reduce', 'VB'), ('the', 'DT'), ('size', 'NN'), ('of', 'IN'), ('the', 'DT'), ('dataset', 'NN'), (',', ','), ('thereby', 'RB'), ('increasing', 'VBG'), ('the', 'DT'), ('computational', 'JJ'), ('efficiency', 'NN'), ('of', 'IN'), ('the', 'DT'), ('analysis', 'NN'), ('.', '.'), ('However', 'RB'), (',', ','), ('it', 'PRP'), ('is', 'VBZ'), ('worth', 'JJ'), ('noting', 'VBG'), ('that', 'IN'), ('the', 'DT'), ('removal', 'NN'), ('of', 'IN'), ('stop', 'JJ'), ('words', 'NNS'), ('should', 'MD'), ('be', 'VB'), ('carefully', 'RB'), ('considered', 'VBN'), ('depending', 'VBG'), ('on', 'IN'), ('the', 'DT'), ('specific', 'JJ'), ('task', 'NN'), ('.', '.'), ('In', 'IN'), ('some', 'DT'), ('cases', 'NNS'), (',', ','), ('such', 'JJ'), ('as', 'IN'), ('sentiment', 'NN'), ('analysis', 'NN'), (',', ','), ('stop', 'VB'), ('words', 'NNS'), ('may', 'MD'), ('carry', 'VB'), ('subtle', 'JJ'), ('meanings', 'NNS'), ('that', 'WDT'), ('could', 'MD'), ('impact', 'VB'), ('the', 'DT'), ('interpretation', 'NN'), ('of', 'IN'), ('the', 'DT'), ('text', 'NN'), ('.', '.'), ('Another', 'DT'), ('essential', 'JJ'), ('technique', 'NN'), ('in', 'IN'), ('NLP', 'NNP'), ('is', 'VBZ'), ('the', 'DT'), ('bag', 'NN'), ('of', 'IN'), ('words', 'NNS'), ('(', '('), ('BoW', 'NNP'), (')', ')'), ('model', 'NN'), (',', ','), ('a', 'DT'), ('simple', 'JJ'), ('and', 'CC'), ('widely', 'RB'), ('used', 'VBN'), ('method', 'NN'), ('for', 'IN'), ('feature', 'NN'), ('extraction', 'NN'), ('from', 'IN'), ('text', 'NN'), ('.', '.'), ('The', 'DT'), ('BoW', 'NNP'), ('model', 'NN'), ('represents', 'VBZ'), ('text', 'JJ'), ('data', 'NNS'), ('as', 'IN'), ('a', 'DT'), ('collection', 'NN'), ('of', 'IN'), ('words', 'NNS'), ('without', 'IN'), ('considering', 'VBG'), ('grammar', 'NN'), (',', ','), ('syntax', 'NN'), (',', ','), ('or', 'CC'), ('word', 'NN'), ('order', 'NN'), ('.', '.'), ('The', 'DT'), ('main', 'JJ'), ('idea', 'NN'), ('behind', 'IN'), ('BoW', 'NNP'), ('is', 'VBZ'), ('to', 'TO'), ('create', 'VB'), ('a', 'DT'), ('vocabulary', 'NN'), ('of', 'IN'), ('all', 'PDT'), ('the', 'DT'), ('unique', 'JJ'), ('words', 'NNS'), ('in', 'IN'), ('the', 'DT'), ('text', 'NN'), ('and', 'CC'), ('then', 'RB'), ('represent', 'VB'), ('each', 'DT'), ('document', 'NN'), ('as', 'IN'), ('a', 'DT'), ('vector', 'NN'), ('based', 'VBN'), ('on', 'IN'), ('the', 'DT'), ('frequency', 'NN'), ('of', 'IN'), ('these', 'DT'), ('words', 'NNS'), ('.', '.'), ('This', 'DT'), ('technique', 'NN'), ('is', 'VBZ'), ('highly', 'RB'), ('effective', 'JJ'), ('for', 'IN'), ('text', 'JJ'), ('classification', 'NN'), ('tasks', 'NNS'), (',', ','), ('where', 'WRB'), ('the', 'DT'), ('presence', 'NN'), ('or', 'CC'), ('absence', 'NN'), ('of', 'IN'), ('specific', 'JJ'), ('words', 'NNS'), ('is', 'VBZ'), ('more', 'RBR'), ('important', 'JJ'), ('than', 'IN'), ('their', 'PRP$'), ('order', 'NN'), ('or', 'CC'), ('context', 'NN'), ('.', '.'), ('However', 'RB'), (',', ','), ('the', 'DT'), ('BoW', 'NNP'), ('model', 'NN'), ('has', 'VBZ'), ('some', 'DT'), ('limitations', 'NNS'), (',', ','), ('such', 'JJ'), ('as', 'IN'), ('ignoring', 'VBG'), ('the', 'DT'), ('semantic', 'JJ'), ('meaning', 'NN'), ('of', 'IN'), ('the', 'DT'), ('words', 'NNS'), ('and', 'CC'), ('failing', 'VBG'), ('to', 'TO'), ('capture', 'VB'), ('the', 'DT'), ('nuances', 'NNS'), ('of', 'IN'), ('the', 'DT'), ('language', 'NN'), ('.', '.'), ('Despite', 'IN'), ('these', 'DT'), ('limitations', 'NNS'), (',', ','), ('it', 'PRP'), ('is', 'VBZ'), ('still', 'RB'), ('a', 'DT'), ('valuable', 'JJ'), ('tool', 'NN'), ('for', 'IN'), ('building', 'NN'), ('simple', 'NN'), ('yet', 'RB'), ('effective', 'JJ'), ('text', 'NN'), ('classification', 'NN'), ('models', 'NNS'), (',', ','), ('especially', 'RB'), ('when', 'WRB'), ('combined', 'VBN'), ('with', 'IN'), ('other', 'JJ'), ('techniques', 'NNS'), ('like', 'IN'), ('TF-IDF', 'NNP'), ('(', '('), ('Term', 'NNP'), ('Frequency-Inverse', 'NNP'), ('Document', 'NNP'), ('Frequency', 'NNP'), (')', ')'), ('for', 'IN'), ('weighting', 'VBG'), ('the', 'DT'), ('importance', 'NN'), ('of', 'IN'), ('words', 'NNS'), ('in', 'IN'), ('the', 'DT'), ('text', 'NN'), ('.', '.'), ('To', 'TO'), ('understand', 'VB'), ('the', 'DT'), ('importance', 'NN'), ('of', 'IN'), ('these', 'DT'), ('NLP', 'NNP'), ('tasks', 'NNS'), (',', ','), ('consider', 'VB'), ('the', 'DT'), ('example', 'NN'), ('of', 'IN'), ('sentiment', 'NN'), ('analysis', 'NN'), (',', ','), ('which', 'WDT'), ('aims', 'VBZ'), ('to', 'TO'), ('determine', 'VB'), ('the', 'DT'), ('emotional', 'JJ'), ('tone', 'NN'), ('behind', 'IN'), ('a', 'DT'), ('body', 'NN'), ('of', 'IN'), ('text', 'NN'), ('.', '.'), ('For', 'IN'), ('instance', 'NN'), (',', ','), ('let', 'VB'), (\"'s\", 'POS'), ('analyze', 'VB'), ('the', 'DT'), ('following', 'JJ'), ('review', 'NN'), ('of', 'IN'), ('a', 'DT'), ('product', 'NN'), (':', ':'), ('``', '``'), ('I', 'PRP'), ('absolutely', 'RB'), ('love', 'VBP'), ('this', 'DT'), ('phone', 'NN'), ('!', '.'), ('It', 'PRP'), ('has', 'VBZ'), ('an', 'DT'), ('amazing', 'JJ'), ('camera', 'NN'), (',', ','), ('and', 'CC'), ('the', 'DT'), ('battery', 'NN'), ('life', 'NN'), ('is', 'VBZ'), ('incredible', 'JJ'), ('.', '.'), ('However', 'RB'), (',', ','), ('the', 'DT'), ('screen', 'NN'), ('is', 'VBZ'), ('a', 'DT'), ('bit', 'NN'), ('too', 'RB'), ('large', 'JJ'), ('for', 'IN'), ('my', 'PRP$'), ('liking', 'NN'), (',', ','), ('but', 'CC'), ('overall', 'RB'), (',', ','), ('it', 'PRP'), (\"'s\", 'VBZ'), ('an', 'DT'), ('excellent', 'JJ'), ('purchase', 'NN'), ('.', '.'), (\"''\", \"''\"), ('Before', 'IN'), ('applying', 'VBG'), ('any', 'DT'), ('machine', 'NN'), ('learning', 'NN'), ('algorithms', 'NN'), (',', ','), ('we', 'PRP'), ('need', 'VBP'), ('to', 'TO'), ('preprocess', 'VB'), ('this', 'DT'), ('text', 'NN'), ('.', '.'), ('The', 'DT'), ('first', 'JJ'), ('step', 'NN'), ('would', 'MD'), ('be', 'VB'), ('to', 'TO'), ('convert', 'VB'), ('the', 'DT'), ('text', 'NN'), ('into', 'IN'), ('lowercase', 'NN'), ('to', 'TO'), ('ensure', 'VB'), ('uniformity', 'NN'), ('since', 'IN'), ('``', '``'), ('Love', 'NNP'), (\"''\", \"''\"), ('and', 'CC'), ('``', '``'), ('love', 'VB'), (\"''\", \"''\"), ('should', 'MD'), ('be', 'VB'), ('treated', 'VBN'), ('as', 'IN'), ('the', 'DT'), ('same', 'JJ'), ('word', 'NN'), ('.', '.'), ('Next', 'JJ'), (',', ','), ('we', 'PRP'), ('could', 'MD'), ('perform', 'VB'), ('stop', 'VB'), ('word', 'NN'), ('removal', 'NN'), ('to', 'TO'), ('eliminate', 'VB'), ('words', 'NNS'), ('like', 'IN'), ('``', '``'), ('it', 'PRP'), (',', ','), (\"''\", \"''\"), ('``', '``'), ('an', 'DT'), (',', ','), (\"''\", \"''\"), ('and', 'CC'), ('``', '``'), ('the', 'DT'), (',', ','), (\"''\", \"''\"), ('which', 'WDT'), ('do', 'VBP'), ('not', 'RB'), ('contribute', 'VB'), ('significantly', 'RB'), ('to', 'TO'), ('the', 'DT'), ('overall', 'JJ'), ('sentiment', 'NN'), ('.', '.'), ('Then', 'RB'), (',', ','), ('we', 'PRP'), ('could', 'MD'), ('apply', 'VB'), ('lemmatization', 'NN'), ('to', 'TO'), ('reduce', 'VB'), ('words', 'NNS'), ('like', 'IN'), ('``', '``'), ('loving', 'VBG'), (\"''\", \"''\"), ('to', 'TO'), ('``', '``'), ('love', 'VB'), (\"''\", \"''\"), ('and', 'CC'), ('``', '``'), ('incredible', 'JJ'), (\"''\", \"''\"), ('to', 'TO'), ('``', '``'), ('incredible', 'JJ'), (\"''\", \"''\"), ('(', '('), ('since', 'IN'), ('it', 'PRP'), (\"'s\", 'VBZ'), ('already', 'RB'), ('in', 'IN'), ('its', 'PRP$'), ('base', 'NN'), ('form', 'NN'), (')', ')'), ('.', '.'), ('Finally', 'RB'), (',', ','), ('using', 'VBG'), ('the', 'DT'), ('bag', 'NN'), ('of', 'IN'), ('words', 'NNS'), ('model', 'NN'), (',', ','), ('we', 'PRP'), ('can', 'MD'), ('represent', 'VB'), ('the', 'DT'), ('text', 'NN'), ('as', 'IN'), ('a', 'DT'), ('frequency', 'NN'), ('vector', 'NN'), (',', ','), ('where', 'WRB'), ('words', 'NNS'), ('like', 'IN'), ('``', '``'), ('love', 'NN'), (',', ','), (\"''\", \"''\"), ('``', '``'), ('amazing', 'JJ'), (',', ','), (\"''\", \"''\"), ('and', 'CC'), ('``', '``'), ('excellent', 'JJ'), (\"''\", \"''\"), ('will', 'MD'), ('have', 'VB'), ('higher', 'JJR'), ('weights', 'NNS'), (',', ','), ('indicating', 'VBG'), ('positive', 'JJ'), ('sentiment', 'NN'), ('.', '.'), ('The', 'DT'), ('process', 'NN'), ('of', 'IN'), ('preparing', 'VBG'), ('text', 'NN'), ('data', 'NNS'), ('for', 'IN'), ('NLP', 'NNP'), ('tasks', 'NNS'), ('also', 'RB'), ('involves', 'VBZ'), ('dealing', 'VBG'), ('with', 'IN'), ('various', 'JJ'), ('challenges', 'NNS'), ('such', 'JJ'), ('as', 'IN'), ('handling', 'VBG'), ('punctuation', 'NN'), (',', ','), ('special', 'JJ'), ('characters', 'NNS'), (',', ','), ('typos', 'NN'), (',', ','), ('and', 'CC'), ('misspellings', 'NNS'), ('.', '.'), ('For', 'IN'), ('example', 'NN'), (',', ','), ('punctuation', 'NN'), ('marks', 'NNS'), ('like', 'IN'), ('commas', 'NN'), (',', ','), ('periods', 'NNS'), (',', ','), ('exclamation', 'NN'), ('marks', 'NNS'), (',', ','), ('and', 'CC'), ('question', 'NN'), ('marks', 'NNS'), ('can', 'MD'), ('significantly', 'RB'), ('affect', 'VB'), ('the', 'DT'), ('interpretation', 'NN'), ('of', 'IN'), ('the', 'DT'), ('text', 'NN'), ('.', '.'), ('While', 'IN'), ('some', 'DT'), ('NLP', 'NNP'), ('applications', 'NNS'), ('may', 'MD'), ('require', 'VB'), ('preserving', 'VBG'), ('punctuation', 'NN'), ('marks', 'NNS'), ('to', 'TO'), ('understand', 'VB'), ('the', 'DT'), ('context', 'NN'), ('or', 'CC'), ('tone', 'NN'), (',', ','), ('others', 'NNS'), ('may', 'MD'), ('choose', 'VB'), ('to', 'TO'), ('remove', 'VB'), ('them', 'PRP'), ('to', 'TO'), ('simplify', 'VB'), ('the', 'DT'), ('text', 'NN'), ('representation', 'NN'), ('.', '.'), ('Similarly', 'RB'), (',', ','), ('special', 'JJ'), ('characters', 'NNS'), ('like', 'IN'), ('hashtags', 'NNS'), (',', ','), ('mentions', 'NNS'), (',', ','), ('and', 'CC'), ('emojis', 'RB'), (',', ','), ('commonly', 'RB'), ('found', 'VBN'), ('in', 'IN'), ('social', 'JJ'), ('media', 'NNS'), ('texts', 'NNS'), (',', ','), ('may', 'MD'), ('need', 'VB'), ('to', 'TO'), ('be', 'VB'), ('retained', 'VBN'), ('or', 'CC'), ('removed', 'VBN'), ('depending', 'VBG'), ('on', 'IN'), ('the', 'DT'), ('specific', 'NN'), ('use', 'NN'), ('case', 'NN'), ('.', '.'), ('Additionally', 'RB'), (',', ','), ('dealing', 'VBG'), ('with', 'IN'), ('typos', 'NN'), ('and', 'CC'), ('misspellings', 'NNS'), ('is', 'VBZ'), ('crucial', 'JJ'), (',', ','), ('especially', 'RB'), ('when', 'WRB'), ('working', 'VBG'), ('with', 'IN'), ('user-generated', 'JJ'), ('content', 'NN'), ('or', 'CC'), ('informal', 'JJ'), ('text', 'NN'), ('data', 'NNS'), (',', ','), ('where', 'WRB'), ('such', 'JJ'), ('errors', 'NNS'), ('are', 'VBP'), ('common', 'JJ'), ('.', '.'), ('Techniques', 'NNS'), ('like', 'IN'), ('spell-checking', 'NN'), ('and', 'CC'), ('text', 'JJ'), ('normalization', 'NN'), ('can', 'MD'), ('help', 'VB'), ('improve', 'VB'), ('the', 'DT'), ('quality', 'NN'), ('of', 'IN'), ('the', 'DT'), ('data', 'NN'), ('before', 'IN'), ('analysis', 'NN'), ('.', '.')]\n"
          ]
        }
      ]
    },
    {
      "cell_type": "code",
      "source": [
        "import docx\n",
        "import nltk\n",
        "from nltk.corpus import stopwords\n",
        "\n",
        "doc = docx.Document(\"The Enchanted Forest Adventure.docx\")\n",
        "\n",
        "# all the sentences\n",
        "\n",
        "sentences = []\n",
        "for paragraph in doc.paragraphs:\n",
        "  sentences.append(paragraph.text)\n",
        "\n",
        "#list of stopwords\n",
        "\n",
        "stopwords = nltk.corpus.stopwords.words('english')\n",
        "\n",
        "#Remove stopwords from all the sentences\n",
        "stopword_removed_sentences = []\n",
        "for sentence in sentences:\n",
        "  stopword_removed_sentence = []\n",
        "  for word in sentence.split():\n",
        "    if word not in stopwords:\n",
        "      stopword_removed_sentence.append(word)\n",
        "9  stopword_removed_sentences.append(''.join(stopword_removed_sentence))"
      ],
      "metadata": {
        "id": "eIoP-Lqezgi6"
      },
      "execution_count": 54,
      "outputs": []
    },
    {
      "cell_type": "code",
      "source": [
        "print('Stopped removed sentences:')\n",
        "print(stopword_removed_sentences)"
      ],
      "metadata": {
        "colab": {
          "base_uri": "https://localhost:8080/"
        },
        "id": "EubT2RLF1PGY",
        "outputId": "444fb3aa-e661-4a4a-8c87-6ed214a2efa2"
      },
      "execution_count": 55,
      "outputs": [
        {
          "output_type": "stream",
          "name": "stdout",
          "text": [
            "Stopped removed sentences:\n",
            "['ParagraphNLPTasks:', 'Indigitalage,databecomecriticalassetorganizationsworldwide.Theabilityanalyzelargedatasetsefficientlyledbreakthroughsvariousfields,ranginghealthcarefinance,evenentertainment.Withinlandscape,NaturalLanguageProcessing(NLP)emergedpivotaltoolenablescomputersunderstand,interpret,manipulatehumanlanguage.NLPencompassesrangetasks,textclassification,sentimentanalysis,machinetranslation,namedentityrecognition,namefew.Despiteadvancements,challengesassociatedprocessinganalyzingtextdataremainsignificant,owingcomplexityambiguityinherenthumanlanguages.', 'OneprimarystepsNLPpreprocessing,involvestransformingrawtextstructuredformatsuitableanalysis.ThisstepcrucialdirectlyaffectsperformanceNLPmodelsalgorithms.Thefirsttechniquecommonlyemployedpreprocessingstemming,reduceswordsrootbaseform.Stemmingparticularlyusefulreducingdimensionalitytext,makeseasierhandlecomputationally.Forinstance,words\"playing,\"\"played,\"\"plays\"reducedcommonbaseform\"play.\"Whilestemmingeffectivelycondensewordsfundamentalform,oftenresultsstemsvalidwordsthemselves,leadlossinterpretabilitytext.Nevertheless,stemmingremainsessentialtoolmanyNLPpipelines,particularlytaskslikeinformationretrievalsearchengines.', 'Anothervitalpreprocessingtechniquelemmatization.Unlikestemming,chopssuffixes,lemmatizationsophisticated;reduceswordsdictionaryform,lemma,consideringcontextused.Thistechniquefocusesrootwordalsoensurestransformedwordactuallanguageword.Forexample,word\"better\"wouldreduced\"good,\"\"went\"wouldreduced\"go.\"Lemmatizationtakesaccountmorphologicalanalysiswords,makingaccurateprocesscomparedstemming.Itparticularlyusefulapplicationsunderstandingcorrectmeaningwordsessential,machinetranslation,wordsmustaccuratelyinterpretedbasedcontext.', 'Beyondstemminglemmatization,anothercommonpreprocessingstepstopwordremoval.Stopwordscommonwordslanguageusuallycarrysubstantialmeaningcontextanalysis.ExamplesstopwordsEnglishinclude\"the,\"\"is,\"\"in,\"\"and,\"\"on,\"\"at,\"etc.Whilewordsessentialhumancommunication,oftenusefulNLPtasks,textclassification,contributesignificantlytext\\'smeaning.Removingstopwordshelpsreducesizedataset,therebyincreasingcomputationalefficiencyanalysis.However,worthnotingremovalstopwordscarefullyconsidereddependingspecifictask.Incases,sentimentanalysis,stopwordsmaycarrysubtlemeaningscouldimpactinterpretationtext.', 'AnotheressentialtechniqueNLPbagwords(BoW)model,simplewidelyusedmethodfeatureextractiontext.TheBoWmodelrepresentstextdatacollectionwordswithoutconsideringgrammar,syntax,wordorder.ThemainideabehindBoWcreatevocabularyuniquewordstextrepresentdocumentvectorbasedfrequencywords.Thistechniquehighlyeffectivetextclassificationtasks,presenceabsencespecificwordsimportantordercontext.However,BoWmodellimitations,ignoringsemanticmeaningwordsfailingcapturenuanceslanguage.Despitelimitations,stillvaluabletoolbuildingsimpleyeteffectivetextclassificationmodels,especiallycombinedtechniqueslikeTF-IDF(TermFrequency-InverseDocumentFrequency)weightingimportancewordstext.', 'TounderstandimportanceNLPtasks,considerexamplesentimentanalysis,aimsdetermineemotionaltonebehindbodytext.Forinstance,let\\'sanalyzefollowingreviewproduct:\"Iabsolutelylovephone!Itamazingcamera,batterylifeincredible.However,screenbitlargeliking,overall,excellentpurchase.\"Beforeapplyingmachinelearningalgorithms,needpreprocesstext.Thefirststepwouldconverttextlowercaseensureuniformitysince\"Love\"\"love\"treatedword.Next,couldperformstopwordremovaleliminatewordslike\"it,\"\"an,\"\"the,\"contributesignificantlyoverallsentiment.Then,couldapplylemmatizationreducewordslike\"loving\"\"love\"\"incredible\"\"incredible\"(sincealreadybaseform).Finally,usingbagwordsmodel,representtextfrequencyvector,wordslike\"love,\"\"amazing,\"\"excellent\"higherweights,indicatingpositivesentiment.', 'TheprocesspreparingtextdataNLPtasksalsoinvolvesdealingvariouschallengeshandlingpunctuation,specialcharacters,typos,misspellings.Forexample,punctuationmarkslikecommas,periods,exclamationmarks,questionmarkssignificantlyaffectinterpretationtext.WhileNLPapplicationsmayrequirepreservingpunctuationmarksunderstandcontexttone,othersmaychooseremovesimplifytextrepresentation.Similarly,specialcharacterslikehashtags,mentions,emojis,commonlyfoundsocialmediatexts,mayneedretainedremoveddependingspecificusecase.Additionally,dealingtyposmisspellingscrucial,especiallyworkinguser-generatedcontentinformaltextdata,errorscommon.Techniqueslikespell-checkingtextnormalizationhelpimprovequalitydataanalysis.', '']\n"
          ]
        }
      ]
    },
    {
      "cell_type": "code",
      "source": [
        "common_words = set([\"list\",\"of\",\"common\",\"words\",\"in\",\"your\", \"langugae\"])"
      ],
      "metadata": {
        "id": "Gy_8W8ok1hvU"
      },
      "execution_count": 57,
      "outputs": []
    },
    {
      "cell_type": "code",
      "source": [
        "def find_unusual_words(text,common_words):\n",
        "  words = text.split()\n",
        "  unusual_words = set()\n",
        "  for word in words:\n",
        "    word = word.lower()\n",
        "    if word not in common_words:\n",
        "      unusual_words.add(word)\n",
        "\n",
        "\n",
        "  return unusual_words"
      ],
      "metadata": {
        "id": "CpFuqAK23-yV"
      },
      "execution_count": 63,
      "outputs": []
    },
    {
      "cell_type": "code",
      "source": [
        "text = \"This is an example text in your language with some unusualwords.it\"\n",
        "unusual = find_unusual_words(text,common_words)\n",
        "\n",
        "print(\"Unusual words in the text:\")\n",
        "for word in unusual:\n",
        "  print(word)"
      ],
      "metadata": {
        "id": "CDW10afn4kW4",
        "outputId": "baedd719-54eb-4c12-b85d-4a0dd395de9a",
        "colab": {
          "base_uri": "https://localhost:8080/"
        }
      },
      "execution_count": 65,
      "outputs": [
        {
          "output_type": "stream",
          "name": "stdout",
          "text": [
            "Unusual words in the text:\n",
            "language\n",
            "an\n",
            "is\n",
            "example\n",
            "with\n",
            "this\n",
            "text\n",
            "unusualwords.it\n",
            "some\n"
          ]
        }
      ]
    },
    {
      "cell_type": "code",
      "source": [],
      "metadata": {
        "id": "JCc_Fc-34l93"
      },
      "execution_count": 65,
      "outputs": []
    }
  ]
}